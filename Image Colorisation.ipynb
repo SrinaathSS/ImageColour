{
 "cells": [
  {
   "cell_type": "code",
   "execution_count": null,
   "id": "620bb120",
   "metadata": {},
   "outputs": [],
   "source": [
    "import numpy as np\n",
    "import cv2\n",
    "from cv2 import dnn"
   ]
  },
  {
   "cell_type": "code",
   "execution_count": 2,
   "id": "1bb98e9c",
   "metadata": {},
   "outputs": [],
   "source": [
    "proto_file = r\"C:/Users/Srinaath/Desktop/Image Coloriser/colorization_deploy_v2.prototxt\"\n",
    "model_file = r\"C:/Users/Srinaath/Desktop/Image Coloriser/colorization_release_v2.caffemodel\"\n",
    "hull_pts = r\"C:/Users/Srinaath/Desktop/Image Coloriser/pts_in_hull.npy\"\n",
    "img_path = r\"C:/Users/Srinaath/Downloads/wilsoncolor.jpeg\""
   ]
  },
  {
   "cell_type": "code",
   "execution_count": 3,
   "id": "f68bbfcc",
   "metadata": {},
   "outputs": [],
   "source": [
    "net = dnn.readNetFromCaffe(proto_file,model_file)\n",
    "kernel = np.load(hull_pts)"
   ]
  },
  {
   "cell_type": "code",
   "execution_count": 4,
   "id": "7970da99",
   "metadata": {},
   "outputs": [],
   "source": [
    "img = cv2.imread(img_path)\n",
    "scaled = img.astype(\"float32\") / 255.0\n",
    "lab_img = cv2.cvtColor(scaled, cv2.COLOR_BGR2LAB)"
   ]
  },
  {
   "cell_type": "code",
   "execution_count": 5,
   "id": "86d1a543",
   "metadata": {},
   "outputs": [],
   "source": [
    "class8 = net.getLayerId(\"class8_ab\")\n",
    "conv8 = net.getLayerId(\"conv8_313_rh\")\n",
    "pts = kernel.transpose().reshape(2, 313, 1, 1)\n",
    "net.getLayer(class8).blobs = [pts.astype(\"float32\")]\n",
    "net.getLayer(conv8).blobs = [np.full([1, 313], 2.606, dtype=\"float32\")]"
   ]
  },
  {
   "cell_type": "code",
   "execution_count": 6,
   "id": "89554a1c",
   "metadata": {},
   "outputs": [],
   "source": [
    "resized = cv2.resize(lab_img, (224, 224))"
   ]
  },
  {
   "cell_type": "code",
   "execution_count": 7,
   "id": "7e03b312",
   "metadata": {},
   "outputs": [],
   "source": [
    "L = cv2.split(resized)[0]"
   ]
  },
  {
   "cell_type": "code",
   "execution_count": 8,
   "id": "b89f8ca8",
   "metadata": {},
   "outputs": [],
   "source": [
    "L -= 50"
   ]
  },
  {
   "cell_type": "code",
   "execution_count": 9,
   "id": "a7098308",
   "metadata": {},
   "outputs": [],
   "source": [
    "net.setInput(cv2.dnn.blobFromImage(L))\n",
    "ab_channel = net.forward()[0, :, :, :].transpose((1, 2, 0))"
   ]
  },
  {
   "cell_type": "code",
   "execution_count": 10,
   "id": "7bc44b84",
   "metadata": {},
   "outputs": [],
   "source": [
    "ab_channel = cv2.resize(ab_channel, (img.shape[1], img.shape[0]))"
   ]
  },
  {
   "cell_type": "code",
   "execution_count": 11,
   "id": "31ddd35e",
   "metadata": {},
   "outputs": [],
   "source": [
    "L = cv2.split(lab_img)[0]"
   ]
  },
  {
   "cell_type": "code",
   "execution_count": 12,
   "id": "b83c533e",
   "metadata": {},
   "outputs": [],
   "source": [
    "colorized = np.concatenate((L[:, :, np.newaxis], ab_channel), axis=2)"
   ]
  },
  {
   "cell_type": "code",
   "execution_count": 13,
   "id": "c204d2d4",
   "metadata": {},
   "outputs": [],
   "source": [
    "colorized = cv2.cvtColor(colorized, cv2.COLOR_LAB2BGR)\n",
    "colorized = np.clip(colorized, 0, 1)"
   ]
  },
  {
   "cell_type": "code",
   "execution_count": 14,
   "id": "237a8a05",
   "metadata": {},
   "outputs": [],
   "source": [
    "colorized = (255 * colorized).astype(\"uint8\")"
   ]
  },
  {
   "cell_type": "code",
   "execution_count": 15,
   "id": "755b381d",
   "metadata": {},
   "outputs": [],
   "source": [
    "img = cv2.resize(img,(640,640))\n",
    "colorized = cv2.resize(colorized,(640,640))"
   ]
  },
  {
   "cell_type": "code",
   "execution_count": 16,
   "id": "05a8cf64",
   "metadata": {},
   "outputs": [],
   "source": [
    "result = cv2.hconcat([img,colorized])"
   ]
  },
  {
   "cell_type": "code",
   "execution_count": 17,
   "id": "6caa952e",
   "metadata": {},
   "outputs": [],
   "source": [
    "cv2.imshow(\"Grayscale -> Colour\", result)"
   ]
  },
  {
   "cell_type": "code",
   "execution_count": null,
   "id": "0ce5ddfe",
   "metadata": {},
   "outputs": [],
   "source": [
    "cv2.waitKey(0)"
   ]
  },
  {
   "cell_type": "code",
   "execution_count": null,
   "id": "ebf43d2c",
   "metadata": {},
   "outputs": [],
   "source": []
  }
 ],
 "metadata": {
  "kernelspec": {
   "display_name": "Python 3 (ipykernel)",
   "language": "python",
   "name": "python3"
  },
  "language_info": {
   "codemirror_mode": {
    "name": "ipython",
    "version": 3
   },
   "file_extension": ".py",
   "mimetype": "text/x-python",
   "name": "python",
   "nbconvert_exporter": "python",
   "pygments_lexer": "ipython3",
   "version": "3.11.5"
  }
 },
 "nbformat": 4,
 "nbformat_minor": 5
}
